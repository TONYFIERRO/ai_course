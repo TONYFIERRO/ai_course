{
  "nbformat": 4,
  "nbformat_minor": 0,
  "metadata": {
    "colab": {
      "name": "Practice_3.ipynb",
      "provenance": [],
      "collapsed_sections": []
    },
    "kernelspec": {
      "name": "python3",
      "display_name": "Python 3"
    },
    "language_info": {
      "name": "python"
    }
  },
  "cells": [
    {
      "cell_type": "code",
      "metadata": {
        "id": "i6dFyiMl59RC"
      },
      "source": [
        "import numpy as np\n",
        "import pandas as pd\n",
        "import matplotlib.pyplot as plt\n",
        "from sklearn.cluster import MeanShift"
      ],
      "execution_count": 48,
      "outputs": []
    },
    {
      "cell_type": "code",
      "metadata": {
        "colab": {
          "base_uri": "https://localhost:8080/"
        },
        "id": "q-mOcWmn4ZYc",
        "outputId": "03313859-eb2c-44a7-fc35-1a3ee9f41a29"
      },
      "source": [
        "from google.colab import drive\n",
        "drive.mount('/content/drive')"
      ],
      "execution_count": 49,
      "outputs": [
        {
          "output_type": "stream",
          "name": "stdout",
          "text": [
            "Drive already mounted at /content/drive; to attempt to forcibly remount, call drive.mount(\"/content/drive\", force_remount=True).\n"
          ]
        }
      ]
    },
    {
      "cell_type": "markdown",
      "source": [
        "Import data and manipulation."
      ],
      "metadata": {
        "id": "rbHA16gAbJXA"
      }
    },
    {
      "cell_type": "code",
      "metadata": {
        "id": "d7TiVr_m5ofe"
      },
      "source": [
        "name_of_file = 'checkins.dat'\n",
        "path = '/content/drive/My Drive/Colab Notebooks/AI_Course/Practice_3/'+ name_of_file\n",
        "\n",
        "#  Constriction\n",
        "df = pd.read_csv(path, \n",
        "                 sep=\"\\|\\s+\", \n",
        "                 skiprows=2, \n",
        "                 names=['id', 'user_id', 'venue_id', 'latitude', 'longitude', 'created_at'],\n",
        "                 engine='python',\n",
        "                 usecols = ['latitude','longitude'])\n",
        "\n",
        "#  Delete NaNs\n",
        "df = df.dropna(how='any')\n",
        "df = df.drop(df.index[100000::])\n",
        "#print(df)"
      ],
      "execution_count": 50,
      "outputs": []
    },
    {
      "cell_type": "markdown",
      "source": [
        "Mean Shift Clustering."
      ],
      "metadata": {
        "id": "6WfiwBWza8TW"
      }
    },
    {
      "cell_type": "code",
      "metadata": {
        "id": "g5TffSy16g6i"
      },
      "source": [
        "clustering = MeanShift(bandwidth=2).fit(df)"
      ],
      "execution_count": 51,
      "outputs": []
    },
    {
      "cell_type": "markdown",
      "source": [
        "Building a graph, where center-points of clusters are located.  "
      ],
      "metadata": {
        "id": "DUhCH7pjc8iT"
      }
    },
    {
      "cell_type": "code",
      "metadata": {
        "colab": {
          "base_uri": "https://localhost:8080/",
          "height": 282
        },
        "id": "kIW7li9BF267",
        "outputId": "2974d4be-ab5b-4915-8d11-bf764d6cbcf2"
      },
      "source": [
        "cluster_centers = clustering.cluster_centers_\n",
        "labels = clustering.labels_\n",
        "labels_unique = np.unique(labels)\n",
        "n_clusters = len(labels_unique)\n",
        "print('Amount of clusters:', n_clusters)\n",
        "cluster_centers_x, cluster_centers_y = [i[0] for i in cluster_centers], [j[1] for j in cluster_centers]\n",
        "plt.plot(cluster_centers_x, cluster_centers_y, marker='o', markerfacecolor='black', color='white')\n",
        "plt.show()"
      ],
      "execution_count": 52,
      "outputs": [
        {
          "output_type": "stream",
          "name": "stdout",
          "text": [
            "Amount of clusters: 280\n"
          ]
        },
        {
          "output_type": "display_data",
          "data": {
            "image/png": "[encoded data removed]",
            "text/plain": [
              "<Figure size 432x288 with 1 Axes>"
            ]
          },
          "metadata": {
            "needs_background": "light"
          }
        }
      ]
    },
    {
      "cell_type": "markdown",
      "source": [
        "Taking the hugest clusters (20 clusters)."
      ],
      "metadata": {
        "id": "yNp888g3froy"
      }
    },
    {
      "cell_type": "code",
      "metadata": {
        "id": "GtayHFnAZw_C"
      },
      "source": [
        "clusters = {}\n",
        "n = 0\n",
        "for item in labels:\n",
        "  if item in clusters:\n",
        "    clusters[item].append(df.iloc[n])\n",
        "  else:\n",
        "    clusters[item] = [df.iloc[n]]\n",
        "  n += 1"
      ],
      "execution_count": 53,
      "outputs": []
    },
    {
      "cell_type": "code",
      "metadata": {
        "id": "ose8k2DzahN3",
        "colab": {
          "base_uri": "https://localhost:8080/"
        },
        "outputId": "3f355497-3f02-4620-ce4a-fdbb3fc025e9"
      },
      "source": [
        "top = []\n",
        "label = []\n",
        "for item in clusters:\n",
        "  top.append(len(clusters[item]))\n",
        "  label.append(item)\n",
        "df1 = pd.DataFrame(list(zip(label, top)), columns=['Name', 'val'])\n",
        "df1 = df1.sort_values(by=['val'], ascending=False)[:20]\n",
        "#print(df1)"
      ],
      "execution_count": 54,
      "outputs": [
        {
          "output_type": "stream",
          "name": "stdout",
          "text": [
            "    Name    val\n",
            "5      0  18477\n",
            "4      1  13728\n",
            "7      2   8337\n",
            "9      3   7225\n",
            "11     5   6434\n",
            "0      4   5241\n",
            "31     6   3599\n",
            "2      8   3357\n",
            "6      7   3315\n",
            "20     9   2937\n",
            "1     10   2889\n",
            "27    11   2128\n",
            "17    12   2089\n",
            "38    15   1748\n",
            "19    17   1574\n",
            "14    13   1476\n",
            "8     16   1459\n",
            "13    14   1362\n",
            "16    18   1041\n",
            "42    19    915\n"
          ]
        }
      ]
    },
    {
      "cell_type": "markdown",
      "source": [
        "Output: coordinates of the best places."
      ],
      "metadata": {
        "id": "kWRaX8D9gPOu"
      }
    },
    {
      "cell_type": "code",
      "metadata": {
        "colab": {
          "base_uri": "https://localhost:8080/"
        },
        "id": "AQpyiGzjbbAK",
        "outputId": "8707762f-2314-40ba-9da6-63112c5dde63"
      },
      "source": [
        "for cl_ind in df1.loc[::].to_numpy():\n",
        "  print(*cluster_centers[cl_ind[0]])"
      ],
      "execution_count": 56,
      "outputs": [
        {
          "output_type": "stream",
          "name": "stdout",
          "text": [
            "40.681920408459604 -74.07586740317208\n",
            "33.41363611893628 -111.90142392871027\n",
            "33.72097813430155 -117.90010214898203\n",
            "37.707154452241916 -122.22123664005223\n",
            "42.1125091495884 -87.7908053590057\n",
            "39.217234353500885 -76.51755688988501\n",
            "27.369749313121808 -81.18147029793089\n",
            "47.101925006610024 -122.40051710500015\n",
            "42.27098237711761 -71.37784045408098\n",
            "31.861722258716544 -97.194857508924\n",
            "33.82489879874438 -84.36921052235861\n",
            "41.47732014705027 -82.76887007752364\n",
            "44.93181985596971 -93.24952366022477\n",
            "39.77872937576213 -105.06815896652378\n",
            "35.57573726549701 -79.82719359137415\n",
            "41.972476684725436 -80.22255767791559\n",
            "36.08311407312825 -115.13438104618838\n",
            "39.61976220703991 -84.7919751221725\n",
            "39.614052523164546 -95.09305000657781\n",
            "29.817075774250377 -95.37950577680289\n"
          ]
        }
      ]
    }
  ]
}