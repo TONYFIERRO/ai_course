{
  "nbformat": 4,
  "nbformat_minor": 0,
  "metadata": {
    "colab": {
      "name": "Practice1.ipynb",
      "provenance": [],
      "collapsed_sections": []
    },
    "kernelspec": {
      "name": "python3",
      "display_name": "Python 3"
    },
    "language_info": {
      "name": "python"
    },
    "accelerator": "GPU"
  },
  "cells": [
    {
      "cell_type": "code",
      "metadata": {
        "id": "lML-THKJ9I7x"
      },
      "source": [
        "import matplotlib.pyplot as plt\n",
        "import numpy as np\n",
        "import torch\n",
        "import time"
      ],
      "execution_count": 50,
      "outputs": []
    },
    {
      "cell_type": "code",
      "metadata": {
        "id": "IawSjULu9WUv"
      },
      "source": [
        "# CPU Calculation\n",
        "def withoutCuda(n):\n",
        "  t0 = time.time()\n",
        "  A_CPU = np.random.random([n, n])\n",
        "  B_CPU = np.random.random([n])\n",
        "  X_CPU = np.linalg.solve(A_CPU, B_CPU)\n",
        "  T = time.time() - t0\n",
        "  print(f'(CPU) If n = {n}, time = {T} sec.')\n",
        "  return withCuda(n, A_CPU, B_CPU)"
      ],
      "execution_count": 51,
      "outputs": []
    },
    {
      "cell_type": "code",
      "metadata": {
        "id": "0OOU4zJnAI1T"
      },
      "source": [
        "# GPU Calculation\n",
        "def withCuda(n, A_CPU, B_CPU):\n",
        "  t0 = time.time()\n",
        "  A_GPU = torch.from_numpy(A_CPU).cuda()\n",
        "  B_GPU = torch.unsqueeze(torch.from_numpy(B_CPU), 1).cuda()\n",
        "  X_GPU = torch.solve(B_GPU, A_GPU)\n",
        "  T = time.time() - t0\n",
        "  print(f'(GPU) If n = {n}, time = {T} sec.')\n",
        "  return T"
      ],
      "execution_count": 52,
      "outputs": []
    },
    {
      "cell_type": "code",
      "metadata": {
        "id": "UflfEnZ--fwS",
        "colab": {
          "base_uri": "https://localhost:8080/",
          "height": 35
        },
        "outputId": "ae94d5f9-f094-4da6-f397-47b47ea9f727"
      },
      "source": [
        "# Get the GPU name\n",
        "torch.cuda.get_device_name(0)"
      ],
      "execution_count": 53,
      "outputs": [
        {
          "output_type": "execute_result",
          "data": {
            "application/vnd.google.colaboratory.intrinsic+json": {
              "type": "string"
            },
            "text/plain": [
              "'Tesla K80'"
            ]
          },
          "metadata": {},
          "execution_count": 53
        }
      ]
    },
    {
      "cell_type": "code",
      "metadata": {
        "id": "_6ZkWRyKCTSD"
      },
      "source": [
        "Ns = [2000, 5000, 10000] # List of values to check\n",
        "MAX_N = None\n",
        "MAX_N_TIME = None\n",
        "\n",
        "GPU_values = list()"
      ],
      "execution_count": 54,
      "outputs": []
    },
    {
      "cell_type": "code",
      "metadata": {
        "colab": {
          "base_uri": "https://localhost:8080/"
        },
        "id": "LtdD2hTlARdq",
        "outputId": "78382550-57ce-40ce-d654-4d19f64464fb"
      },
      "source": [
        "for n in Ns:\n",
        "  temp = withoutCuda(n)\n",
        "  GPU_values.append(temp)\n",
        "  if MAX_N_TIME == None or MAX_N_TIME > temp:\n",
        "    MAX_N = n\n",
        "    MAX_N_TIME = temp\n",
        "  print()\n",
        "print(f'The largest GPU increment at n = {MAX_N} and time = {MAX_N_TIME} sec.')"
      ],
      "execution_count": 55,
      "outputs": [
        {
          "output_type": "stream",
          "name": "stdout",
          "text": [
            "(CPU) If n = 2000, time = 0.28755879402160645 sec.\n",
            "(GPU) If n = 2000, time = 0.061037540435791016 sec.\n",
            "\n",
            "(CPU) If n = 5000, time = 3.0719761848449707 sec.\n",
            "(GPU) If n = 5000, time = 0.30811619758605957 sec.\n",
            "\n",
            "(CPU) If n = 10000, time = 21.390188455581665 sec.\n",
            "(GPU) If n = 10000, time = 1.558668613433838 sec.\n",
            "\n",
            "The largest GPU increment at n = 2000 and time = 0.061037540435791016 sec.\n"
          ]
        }
      ]
    },
    {
      "cell_type": "code",
      "source": [
        "%matplotlib inline\n",
        "plt.plot(Ns, GPU_values, color='r', marker='o')\n",
        "plt.show()"
      ],
      "metadata": {
        "colab": {
          "base_uri": "https://localhost:8080/",
          "height": 265
        },
        "id": "3rAfJLnTN2Ol",
        "outputId": "027e0518-bf51-4cf3-ef99-0f80461b0d6a"
      },
      "execution_count": 56,
      "outputs": [
        {
          "output_type": "display_data",
          "data": {
            "image/png": "[encoded data removed]",
            "text/plain": [
              "<Figure size 432x288 with 1 Axes>"
            ]
          },
          "metadata": {
            "needs_background": "light"
          }
        }
      ]
    }
  ]
}